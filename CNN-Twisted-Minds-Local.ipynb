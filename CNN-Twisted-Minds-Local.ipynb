{
 "cells": [
  {
   "cell_type": "markdown",
   "metadata": {},
   "source": [
    "# NLP Project - Relation Classification"
   ]
  },
  {
   "cell_type": "code",
   "execution_count": 1,
   "metadata": {
    "ExecuteTime": {
     "end_time": "2020-11-28T02:51:56.937740Z",
     "start_time": "2020-11-28T02:51:56.934047Z"
    }
   },
   "outputs": [],
   "source": [
    "# Uncomment the following lines to install required dependencies\n",
    "\n",
    "# !pip install spacy\n",
    "# !pip install nltk\n",
    "# !pip install tqdm\n",
    "# !pip install scikit-learn\n",
    "# !pip install tensorflow\n",
    "# !pip install keras\n",
    "# !pip install matplotlib"
   ]
  },
  {
   "cell_type": "markdown",
   "metadata": {},
   "source": [
    "### Task 1: Create a class CorpusReader that is able to read the data files and represent the information in a way such that your model can process it. "
   ]
  },
  {
   "cell_type": "code",
   "execution_count": 2,
   "metadata": {
    "ExecuteTime": {
     "end_time": "2020-11-28T02:51:56.950022Z",
     "start_time": "2020-11-28T02:51:56.939777Z"
    }
   },
   "outputs": [],
   "source": [
    "# Imports\n",
    "import os \n",
    "import re\n",
    "from tqdm.notebook import trange, tqdm\n",
    "import pickle\n",
    "from typing import List\n",
    "\n",
    "# Constants\n",
    "TRAIN_FILE_PATH = \"semeval_train.txt\"\n",
    "TEST_FILE_PATH = \"semeval_test.txt\"\n",
    "\n",
    "TASK_NAME = \"semeval\"\n",
    "PROCESSED_FILE_EXT = \"-processed.pkl\""
   ]
  },
  {
   "cell_type": "code",
   "execution_count": 3,
   "metadata": {
    "ExecuteTime": {
     "end_time": "2020-11-28T02:51:56.967578Z",
     "start_time": "2020-11-28T02:51:56.952083Z"
    }
   },
   "outputs": [],
   "source": [
    "class ProcessedSentence:\n",
    "    \n",
    "    def __init__(self, idx: str, sentence_list: List[str], e1: str, e2:str, e1_idx: int, e2_idx:int, label:str=None):\n",
    "        self.idx = idx\n",
    "        self.sentence_list = sentence_list\n",
    "        self.sentence = \" \".join(sentence_list)\n",
    "        self.e1 = e1\n",
    "        self.e2 = e2\n",
    "        self.e1_idx = e1_idx\n",
    "        self.e2_idx = e2_idx\n",
    "        self.label = label\n",
    "        self.max_token_len = 0\n",
    "        \n",
    "        self.features = {}\n",
    "        \n",
    "    def __repr__(self):\n",
    "        return f\"ProcessedSentence(idx={self.idx}, sentence={self.sentence}, e1={self.e1}, e2={self.e2}, label={self.label})\"\n",
    "\n",
    "class CorpusReader:\n",
    "    \n",
    "    # Regex pattern of train and test sentence\n",
    "    regex = r\"(\\d+)\\t\\\"(.*<e1>(.*)<\\/e1>.*<e2>(.*)<\\/e2>.*)\\\".*\\n\"\n",
    "    \n",
    "    def __init__(self, train_file_path:str=None, test_file_path:str=None):\n",
    "        self.train_file_path = train_file_path\n",
    "        self.test_file_path = test_file_path\n",
    "        self.train_sentences = []\n",
    "        self.test_sentences = []\n",
    "        self.max_token_len = 0\n",
    "        \n",
    "    def process_files(self, force:bool=False):\n",
    "        file_found = False\n",
    "        if not force:\n",
    "            # Try loading dumped file if any\n",
    "            try:                \n",
    "                loaded_cr = CorpusReader.load_corpus_reader()\n",
    "                file_found = True\n",
    "                setattr(self, 'train_sentences', loaded_cr.train_sentences)\n",
    "                setattr(self, 'test_sentences', loaded_cr.test_sentences)\n",
    "                setattr(self, 'max_token_len', loaded_cr.max_token_len)\n",
    "                return\n",
    "            except:\n",
    "                pass\n",
    "        if force or not file_found:\n",
    "            if not self.train_file_path or not self.test_file_path:\n",
    "                raise Exception(\"Train file path/Test file path not specified\")\n",
    "\n",
    "            self.__process_file(self.train_file_path, 'train_sentences', force)\n",
    "            self.__process_file(self.test_file_path, 'test_sentences', force)\n",
    "\n",
    "            CorpusReader.save_corpus_reader(self)\n",
    "        \n",
    "        \n",
    "        \n",
    "    @staticmethod\n",
    "    def clean_sentence(sentence:str):\n",
    "        sentence = sentence.replace(\"'\", \" '\")\n",
    "        sentence = sentence.replace(\"<e1>\", \" <e1> \")\n",
    "        sentence = sentence.replace(\"</e1>\", \" </e1> \")\n",
    "        sentence = sentence.replace(\"<e2>\", \" <e2> \")\n",
    "        sentence = sentence.replace(\"</e2>\", \" </e2> \")\n",
    "        for ch in '.!\"#$%&()*+,-:;=?@[\\]^_`{|}~':\n",
    "            if ch in sentence:\n",
    "                sentence = sentence.replace(ch, \" {} \".format(ch))\n",
    "                \n",
    "        sentence.strip()\n",
    "        return sentence\n",
    "    \n",
    "    @staticmethod\n",
    "    def load_corpus_reader(ext=PROCESSED_FILE_EXT):\n",
    "        with open(TASK_NAME+ext, 'rb') as file:\n",
    "            print(\"Loading from\", TASK_NAME+ext)\n",
    "            return pickle.load(file)\n",
    "    \n",
    "    @staticmethod            \n",
    "    def save_corpus_reader(cr, ext=PROCESSED_FILE_EXT):\n",
    "        with open(TASK_NAME+ext, \"wb\") as pkl:\n",
    "            pickle.dump(cr, pkl)\n",
    "            print(\"Corpus reader saved to\", TASK_NAME+ext)\n",
    "            \n",
    "    def __process_file(self, filepath:str, attr:List[ProcessedSentence], force:bool=False):\n",
    "        \n",
    "        store = getattr(self, attr)\n",
    "        \n",
    "        with open(filepath, 'r', encoding='utf-8') as file:\n",
    "            file_data = file.readlines()\n",
    "            \n",
    "        for i in trange(0, len(file_data), 4, desc=filepath):\n",
    "            line = file_data[i]\n",
    "            label = file_data[i+1].strip()\n",
    "            \n",
    "            processed_sentence = CorpusReader.process_sentence(line)\n",
    "            processed_sentence.label = label\n",
    "            store.append(processed_sentence)\n",
    "        \n",
    "        \n",
    "    @staticmethod\n",
    "    def process_sentence(line:str):\n",
    "        match = re.match(CorpusReader.regex, line)\n",
    "        if match:\n",
    "            idx, sentence, e1, e2 = map(lambda x: x.strip(), match.groups())\n",
    "        else:\n",
    "            regex = r\"(.*<e1>(.*)<\\/e1>.*<e2>(.*)<\\/e2>.*)\"\n",
    "            match = re.match(regex, line)\n",
    "            if match:\n",
    "                sentence, e1, e2 = map(lambda x: x.strip(), match.groups())\n",
    "                idx = None\n",
    "            else:\n",
    "                return None\n",
    "            \n",
    "        clean_sentence = CorpusReader.clean_sentence(sentence)\n",
    "        sen_list = clean_sentence.split()\n",
    "        e1_idx = sen_list.index('<e1>') + 1\n",
    "        e2_idx = sen_list.index('<e2>') + 1\n",
    "        \n",
    "        sen_list.remove(\"<e1>\")\n",
    "        sen_list.remove(\"</e1>\")\n",
    "        sen_list.remove(\"<e2>\")\n",
    "        sen_list.remove(\"</e2>\")\n",
    "            \n",
    "        e1_idx -= 1; e2_idx -= 3\n",
    "            \n",
    "        return ProcessedSentence(idx, sen_list, e1, e2, e1_idx, e2_idx)\n",
    "    \n",
    "    def __repr__(self):\n",
    "        return f\"CorpusReader(train_sentences_len={len(self.train_sentences)}, test_sentences_len={len(self.test_sentences)})\"\n",
    "        "
   ]
  },
  {
   "cell_type": "code",
   "execution_count": 4,
   "metadata": {
    "ExecuteTime": {
     "end_time": "2020-11-28T02:51:57.079962Z",
     "start_time": "2020-11-28T02:51:56.969704Z"
    }
   },
   "outputs": [
    {
     "name": "stdout",
     "output_type": "stream",
     "text": [
      "Processing files\n",
      "Loading from semeval-processed.pkl\n",
      "CorpusReader(train_sentences_len=8000, test_sentences_len=2717)\n",
      "\n",
      "Sample Processed Sentence:\n",
      "Train: ProcessedSentence(idx=1, sentence=The system as described above has its greatest application in an arrayed configuration of antenna elements ., e1=configuration, e2=elements, label=Component-Whole(e2,e1))\n",
      "Test: ProcessedSentence(idx=8001, sentence=The most common audits were about waste and recycling ., e1=audits, e2=waste, label=Message-Topic(e1,e2))\n"
     ]
    }
   ],
   "source": [
    "cr = CorpusReader(TRAIN_FILE_PATH, TEST_FILE_PATH)\n",
    "print(\"Processing files\")\n",
    "cr.process_files()\n",
    "print(cr)\n",
    "print()\n",
    "print(\"Sample Processed Sentence:\")\n",
    "print(\"Train:\", cr.train_sentences[0])\n",
    "print(\"Test:\", cr.test_sentences[0])"
   ]
  },
  {
   "cell_type": "markdown",
   "metadata": {
    "ExecuteTime": {
     "end_time": "2020-11-26T17:38:27.746602Z",
     "start_time": "2020-11-26T17:38:27.731463Z"
    }
   },
   "source": [
    "### Task 2: Implement a deep NLP pipeline to extract the following NLP based features from the natural language statements:\n",
    "\n",
    "- Tokenize the sentence into words.\n",
    "- Lemmatize the words to extract lemmas as features\n",
    "- Part-of-speech (POS) tag the words to extract POS tag features\n",
    "- Perform dependency parsing or full-syntactic parsing to get parse-tree based patterns as features\n",
    "- Using WordNet, extract hypernymns, hyponyms, meronyms, and holonyms as features\n",
    "- Using an API like SpaCy, extract the named entity (NER) tags of the two named entities between which relation holds."
   ]
  },
  {
   "cell_type": "code",
   "execution_count": 5,
   "metadata": {
    "ExecuteTime": {
     "end_time": "2020-11-28T02:51:57.912354Z",
     "start_time": "2020-11-28T02:51:57.082192Z"
    }
   },
   "outputs": [
    {
     "name": "stderr",
     "output_type": "stream",
     "text": [
      "[nltk_data] Downloading package wordnet to\n",
      "[nltk_data]     C:\\Users\\Shankar\\AppData\\Roaming\\nltk_data...\n",
      "[nltk_data]   Package wordnet is already up-to-date!\n"
     ]
    }
   ],
   "source": [
    "import spacy \n",
    "\n",
    "# # Uncomment the following lines if wordnet and spacy models are to be downloaded\n",
    "import nltk\n",
    "nltk.download('wordnet')\n",
    "# spacy.cli.download('en_core_web_lg')\n",
    "\n",
    "from nltk.corpus import wordnet as wn"
   ]
  },
  {
   "cell_type": "code",
   "execution_count": 6,
   "metadata": {
    "ExecuteTime": {
     "end_time": "2020-11-28T02:52:04.806488Z",
     "start_time": "2020-11-28T02:51:57.914954Z"
    }
   },
   "outputs": [],
   "source": [
    "sp = spacy.load('en_core_web_md')\n",
    "\n",
    "def extract_feature_of_sentence(processed_sentence: ProcessedSentence, force=False):    \n",
    "    if not force and processed_sentence.features:\n",
    "        return processed_sentence.features       \n",
    "    \n",
    "    sentence = processed_sentence.sentence\n",
    "    doc = sp(sentence)\n",
    "    \n",
    "    features = {}\n",
    "    features['tokens'] = []\n",
    "    features['pos_tags'] = []\n",
    "    features['dep_parse'] = []\n",
    "    features['lemmas'] = []\n",
    "    features['ners'] = []\n",
    "    features['hypernyms'] = []\n",
    "    features['hyponyms'] = [] \n",
    "    features['meronyms'] = [] \n",
    "    features['holonyms'] = []\n",
    "\n",
    "    for token in doc:\n",
    "        features['tokens'].append(token.text)\n",
    "        features['pos_tags'].append(token.tag_)\n",
    "        features['dep_parse'].append(token.dep_)\n",
    "        features['lemmas'].append(token.lemma_)\n",
    "        \n",
    "        try:\n",
    "            wn_pos = getattr(wn, token.pos_)\n",
    "            synsets = wn.synsets(token.text, pos=wn_pos)\n",
    "        except AttributeError:\n",
    "            synsets = wn.synsets(token.text)\n",
    "\n",
    "        if synsets:\n",
    "            synset = synsets[0]\n",
    "            hypernyms = synset.hypernyms()\n",
    "            if hypernyms:\n",
    "                features['hypernyms'].append((token.text, hypernyms[0].name().split('.')[0]))\n",
    "            hyponyms = synset.hyponyms()\n",
    "            if hyponyms:\n",
    "                features['hyponyms'].append((token.text,hyponyms[0].name().split('.')[0]))\n",
    "            meronyms = synset.part_meronyms()\n",
    "            if meronyms:\n",
    "                features['meronyms'].append((token.text, meronyms[0].name().split('.')[0]))\n",
    "            holonyms = synset.part_holonyms()\n",
    "            if holonyms:\n",
    "                features['holonyms'].append((token.text, holonyms[0].name().split('.')[0]))\n",
    "        \n",
    "    e1e2 = sp(processed_sentence.e1 + \" \" + processed_sentence.e2)\n",
    "    for ent in e1e2.ents:\n",
    "        features['ners'].append((ent.text, ent.label_))\n",
    "        \n",
    "    return features"
   ]
  },
  {
   "cell_type": "code",
   "execution_count": 7,
   "metadata": {
    "ExecuteTime": {
     "end_time": "2020-11-28T02:52:04.815279Z",
     "start_time": "2020-11-28T02:52:04.809123Z"
    }
   },
   "outputs": [],
   "source": [
    "EXTRACTED_FEATURE_EXT = \"-features.pkl\"\n",
    "\n",
    "def extract_features(cr:CorpusReader, force:bool=False):\n",
    "    \n",
    "    if not force:\n",
    "        try:\n",
    "            return CorpusReader.load_corpus_reader(EXTRACTED_FEATURE_EXT)\n",
    "        except:\n",
    "            pass\n",
    "    \n",
    "    max_token_len = 0\n",
    "    print(\"Extracting features of train sentences\")    \n",
    "    for s in tqdm(cr.train_sentences):\n",
    "        features = extract_feature_of_sentence(s)\n",
    "        s.features = features\n",
    "        max_token_len = max(len(features['tokens']), max_token_len)\n",
    "    \n",
    "    print(\"Extracting features of test sentences\")        \n",
    "    for s in tqdm(cr.test_sentences):\n",
    "        features = extract_feature_of_sentence(s)\n",
    "        s.features = features\n",
    "        max_token_len = max(len(features['tokens']), max_token_len)\n",
    "        \n",
    "        \n",
    "    cr.max_token_len = max_token_len\n",
    "    CorpusReader.save_corpus_reader(cr, EXTRACTED_FEATURE_EXT)\n",
    "    return cr"
   ]
  },
  {
   "cell_type": "code",
   "execution_count": 8,
   "metadata": {
    "ExecuteTime": {
     "end_time": "2020-11-28T02:52:05.551712Z",
     "start_time": "2020-11-28T02:52:04.817565Z"
    }
   },
   "outputs": [
    {
     "name": "stdout",
     "output_type": "stream",
     "text": [
      "Extracting features\n",
      "Loading from semeval-features.pkl\n",
      "Sample Extracted Training sentence feature\n",
      " {'tokens': ['The', 'system', 'as', 'described', 'above', 'has', 'its', 'greatest', 'application', 'in', 'an', 'arrayed', 'configuration', 'of', 'antenna', 'elements', '.'], 'pos_tags': ['DT', 'NN', 'IN', 'VBN', 'RB', 'VBZ', 'PRP$', 'JJS', 'NN', 'IN', 'DT', 'VBN', 'NN', 'IN', 'JJ', 'NNS', '.'], 'dep_parse': ['det', 'nsubj', 'mark', 'acl', 'advmod', 'ROOT', 'poss', 'amod', 'dobj', 'prep', 'det', 'amod', 'pobj', 'prep', 'compound', 'pobj', 'punct'], 'lemmas': ['the', 'system', 'as', 'describe', 'above', 'have', '-PRON-', 'great', 'application', 'in', 'an', 'array', 'configuration', 'of', 'antenna', 'element', '.'], 'ners': [], 'hypernyms': [('system', 'instrumentality'), ('as', 'chemical_element'), ('described', 'set_forth'), ('has', 'angular_distance'), ('its', 'engineering'), ('application', 'use'), ('in', 'linear_unit'), ('an', 'associate_degree'), ('arrayed', 'arrange'), ('configuration', 'design'), ('elements', 'weather')], 'hyponyms': [('system', 'audio_system'), ('described', 'delineate'), ('application', 'misapplication'), ('arrayed', 'compart'), ('configuration', 'redundancy')], 'meronyms': [('system', 'infrastructure'), ('in', 'em')], 'holonyms': [('in', 'foot')]}\n",
      "\n",
      "Sample Extracted Testing sentence feature\n",
      " {'tokens': ['The', 'most', 'common', 'audits', 'were', 'about', 'waste', 'and', 'recycling', '.'], 'pos_tags': ['DT', 'RBS', 'JJ', 'NN', 'VBD', 'IN', 'NN', 'CC', 'NN', '.'], 'dep_parse': ['det', 'advmod', 'amod', 'nsubj', 'ROOT', 'prep', 'pobj', 'cc', 'conj', 'punct'], 'lemmas': ['the', 'most', 'common', 'audits', 'be', 'about', 'waste', 'and', 'recycling', '.'], 'ners': [], 'hypernyms': [('audits', 'accounting'), ('waste', 'material'), ('recycling', 'use')], 'hyponyms': [('audits', 'financial_audit'), ('were', 'abound'), ('waste', 'body_waste'), ('recycling', 'bottle_collection')], 'meronyms': [('audits', 'bottom_line')], 'holonyms': []}\n"
     ]
    }
   ],
   "source": [
    "print(\"Extracting features\")\n",
    "cr = extract_features(cr)\n",
    "print(\"Sample Extracted Training sentence feature\\n\", cr.train_sentences[0].features)\n",
    "print()\n",
    "print(\"Sample Extracted Testing sentence feature\\n\", cr.test_sentences[0].features)"
   ]
  },
  {
   "cell_type": "code",
   "execution_count": 9,
   "metadata": {
    "ExecuteTime": {
     "end_time": "2020-11-28T02:52:05.556771Z",
     "start_time": "2020-11-28T02:52:05.553916Z"
    }
   },
   "outputs": [
    {
     "name": "stdout",
     "output_type": "stream",
     "text": [
      "Maximum token Length = 97\n"
     ]
    }
   ],
   "source": [
    "print(\"Maximum token Length =\", cr.max_token_len)"
   ]
  },
  {
   "cell_type": "markdown",
   "metadata": {},
   "source": [
    "### Task 3: Implement a machine-learning, statistical, or heuristic (or a combination) based approach to determine the relation and its direction for the given pair of arguments:"
   ]
  },
  {
   "cell_type": "code",
   "execution_count": 10,
   "metadata": {
    "ExecuteTime": {
     "end_time": "2020-11-28T02:52:07.222112Z",
     "start_time": "2020-11-28T02:52:05.558724Z"
    }
   },
   "outputs": [
    {
     "name": "stderr",
     "output_type": "stream",
     "text": [
      "Using TensorFlow backend.\n"
     ]
    }
   ],
   "source": [
    "from sklearn.preprocessing import LabelEncoder\n",
    "import numpy as np\n",
    "import keras\n",
    "\n",
    "GLOVE_WORD2VEC_PATH = r\"glove.6B.300d.txt\"\n",
    "PROCESSED_EMBEDDINGS_EXT = \"-Embeddings.pkl\""
   ]
  },
  {
   "cell_type": "code",
   "execution_count": 11,
   "metadata": {
    "ExecuteTime": {
     "end_time": "2020-11-28T02:52:07.226946Z",
     "start_time": "2020-11-28T02:52:07.224242Z"
    }
   },
   "outputs": [],
   "source": [
    "# # Download and extract GloVe word embeddings\n",
    "# # Uncomment the following lines if GloVe vectors are to be downloaded\n",
    "\n",
    "# path_to_glove = keras.utils.get_file(\n",
    "#     \"glove.6B.zip\",\n",
    "#     \"http://nlp.stanford.edu/data/glove.6B.zip\",\n",
    "#     extract=True)\n",
    "\n",
    "# GLOVE_WORD2VEC_PATH = os.path.join(os.path.split(path_to_glove)[0], GLOVE_WORD2VEC_PATH)"
   ]
  },
  {
   "cell_type": "code",
   "execution_count": 12,
   "metadata": {
    "ExecuteTime": {
     "end_time": "2020-11-28T02:52:07.238786Z",
     "start_time": "2020-11-28T02:52:07.228830Z"
    }
   },
   "outputs": [],
   "source": [
    "class Embeddings:\n",
    "\n",
    "    GLOVE_WORD2VEC_DIM = 300\n",
    "    \n",
    "    UNKNOWN_TOKEN = 'UNKNOWN_TOKEN'\n",
    "    PADDING_TOKEN = 'PADDING_TOKEN'\n",
    "    \n",
    "    \n",
    "    def __init__(self, word2vec_path: str):\n",
    "        self.word2vec_path = word2vec_path\n",
    "        self.word2vec_idx = {}\n",
    "        self.word2vec = []        \n",
    "        self.vocab = set()\n",
    "        \n",
    "    def build_vocabulary(self, cr: CorpusReader):\n",
    "        for ts in tqdm(cr.train_sentences + cr.test_sentences):\n",
    "            for token in ts.features['tokens']:\n",
    "                if token.lower() not in self.vocab:\n",
    "                    self.vocab.add(token.lower())\n",
    "                \n",
    "        print(\"Vocabulary Length\", len(self.vocab))\n",
    "    \n",
    "    def load_word_vectors(self):\n",
    "        self.word2vec_idx[Embeddings.PADDING_TOKEN] = 0\n",
    "        zero_vector = np.zeros(Embeddings.GLOVE_WORD2VEC_DIM)\n",
    "        self.word2vec.append(zero_vector)\n",
    "\n",
    "        self.word2vec_idx[Embeddings.UNKNOWN_TOKEN] = 1\n",
    "        avg_vector = np.random.normal(0, np.sqrt(0.25), Embeddings.GLOVE_WORD2VEC_DIM)\n",
    "        self.word2vec.append(avg_vector)\n",
    "        \n",
    "        with open(self.word2vec_path, 'r', encoding=\"utf8\") as w2v_file:\n",
    "            raw_vectors = w2v_file.readlines()\n",
    "            for line in tqdm(raw_vectors):\n",
    "                split = line.strip().split()\n",
    "                word = split[0]\n",
    "                if word.lower() in self.vocab:\n",
    "                    self.word2vec_idx[word.lower()] = len(self.word2vec_idx)\n",
    "                    try:\n",
    "                        vector = np.array([float(x) for x in split[1:]])\n",
    "                        self.word2vec.append(vector)\n",
    "                    except ValueError as e:\n",
    "                        print(\"Could not create vector\")\n",
    "                        print(split)\n",
    "        self.word2vec = np.array(self.word2vec)\n",
    "    \n",
    "    def get_vector(self, word):\n",
    "        return self.word2vec[get_vector_idx(word)]\n",
    "\n",
    "    def get_vector_idx(self, word):\n",
    "        if word in self.word2vec_idx:\n",
    "            return self.word2vec_idx[word]\n",
    "        elif word.lower() in self.word2vec_idx:\n",
    "            return self.word2vec_idx[word.lower()]\n",
    "        return self.word2vec_idx[Embeddings.UNKNOWN_TOKEN]\n",
    "    \n",
    "    def __repr__(self):\n",
    "        return f\"Embeddings(word2vec_path={self.word2vec_path}, vocab_len={len(self.vocab)}, word2vec_len={len(self.word2vec)})\"\n",
    "        "
   ]
  },
  {
   "cell_type": "code",
   "execution_count": 13,
   "metadata": {
    "ExecuteTime": {
     "end_time": "2020-11-28T02:52:07.347990Z",
     "start_time": "2020-11-28T02:52:07.240919Z"
    }
   },
   "outputs": [
    {
     "name": "stdout",
     "output_type": "stream",
     "text": [
      "Loading from semeval-Embeddings.pkl\n"
     ]
    }
   ],
   "source": [
    "def init_word_vectors(cr: CorpusReader, force:bool =False):\n",
    "    if not force:\n",
    "        try:\n",
    "            with open(TASK_NAME + PROCESSED_EMBEDDINGS_EXT, 'rb') as file:\n",
    "                print(\"Loading from\", TASK_NAME + PROCESSED_EMBEDDINGS_EXT)\n",
    "                embeddings = pickle.load(file)\n",
    "            return embeddings\n",
    "        except:\n",
    "            pass\n",
    "    embeddings = Embeddings(GLOVE_WORD2VEC_PATH)\n",
    "    embeddings.build_vocabulary(cr)\n",
    "    embeddings.load_word_vectors()\n",
    "    \n",
    "    with open(TASK_NAME + PROCESSED_EMBEDDINGS_EXT, \"wb\") as pkl:\n",
    "        pickle.dump(embeddings, pkl)\n",
    "        print(\"Processed word vectors saved to\", TASK_NAME + PROCESSED_EMBEDDINGS_EXT)\n",
    "        \n",
    "    return embeddings\n",
    "    \n",
    "embeddings = init_word_vectors(cr)"
   ]
  },
  {
   "cell_type": "code",
   "execution_count": 14,
   "metadata": {
    "ExecuteTime": {
     "end_time": "2020-11-28T02:52:07.354717Z",
     "start_time": "2020-11-28T02:52:07.350243Z"
    }
   },
   "outputs": [],
   "source": [
    "MODEL_DATA_PATH_EXT = \"-model-input.pkl\"\n",
    "\n",
    "class ModelData:\n",
    "        \n",
    "    def __init__(self, word_embeddings, pos_embeddings, labels):\n",
    "        self.word_embeddings = word_embeddings\n",
    "        self.pos_embeddings = pos_embeddings\n",
    "        self.labels = labels\n",
    "        self.classes = None\n",
    "        self.label_encoder = None\n",
    "        self.Y = None\n",
    "    \n",
    "    def encode_labels(self, label_encoder):\n",
    "        self.label_encoder = label_encoder\n",
    "        self.classes = label_encoder.classes_\n",
    "        self.Y = np.array(label_encoder.transform(self.labels), dtype='int32')       \n",
    "        \n",
    "    def __repr__(self):\n",
    "        return f\"ModelData(word_emb.shape={self.word_embeddings.shape}, pos_embeddings.shape={self.pos_embeddings[0].shape}, Y.shape={self.Y.shape if self.Y else None})\"\n",
    "        "
   ]
  },
  {
   "cell_type": "code",
   "execution_count": 15,
   "metadata": {
    "ExecuteTime": {
     "end_time": "2020-11-28T02:52:07.362289Z",
     "start_time": "2020-11-28T02:52:07.356949Z"
    }
   },
   "outputs": [],
   "source": [
    "def construct_model_input(processed_sentences: List[ProcessedSentence], embeddings: Embeddings):\n",
    "    labels = [ps.label for ps in processed_sentences]\n",
    "    \n",
    "    input_dim = (len(processed_sentences), cr.max_token_len)\n",
    "\n",
    "    word_emb = np.zeros(input_dim)\n",
    "    e1_emb = np.zeros(input_dim)\n",
    "    e2_emb = np.zeros(input_dim)\n",
    "\n",
    "    for idx, ps in enumerate(processed_sentences):\n",
    "        word_emb[idx, :len(ps.sentence_list)] = [embeddings.get_vector_idx(word) for word in ps.sentence_list]\n",
    "        e1_emb[idx] = [abs(i - int(ps.e1_idx)) for i in range(cr.max_token_len)]\n",
    "        e2_emb[idx] = [abs(i - int(ps.e2_idx)) for i in range(cr.max_token_len)]\n",
    "    return ModelData(word_emb, [e1_emb, e2_emb], labels)"
   ]
  },
  {
   "cell_type": "code",
   "execution_count": 16,
   "metadata": {
    "ExecuteTime": {
     "end_time": "2020-11-28T02:52:07.396686Z",
     "start_time": "2020-11-28T02:52:07.364418Z"
    }
   },
   "outputs": [
    {
     "name": "stdout",
     "output_type": "stream",
     "text": [
      "Loading from semeval_train.txt-model-input.pkl\n",
      "Loading from semeval_test.txt-model-input.pkl\n"
     ]
    }
   ],
   "source": [
    "def load_data(filepath, ext=MODEL_DATA_PATH_EXT):\n",
    "    with open(filepath+ext, 'rb') as file:\n",
    "        print(\"Loading from\", filepath+ext)\n",
    "        return pickle.load(file)\n",
    "\n",
    "def do_preprocessing(force:bool = False):\n",
    "    if not force:\n",
    "        try:\n",
    "            return load_data(TRAIN_FILE_PATH), load_data(TEST_FILE_PATH)\n",
    "        except:\n",
    "            pass\n",
    "            \n",
    "    train_data = construct_model_input(cr.train_sentences, embeddings)\n",
    "    test_data = construct_model_input(cr.test_sentences, embeddings)\n",
    "    label_encoder = LabelEncoder()\n",
    "    label_encoder.fit(train_data.labels)\n",
    "    label_encoder.fit(test_data.labels)\n",
    "\n",
    "    train_data.encode_labels(label_encoder)\n",
    "    test_data.encode_labels(label_encoder)\n",
    "    \n",
    "    with open(TRAIN_FILE_PATH+MODEL_DATA_PATH_EXT, 'wb') as file:\n",
    "        pickle.dump(train_data, file)\n",
    "        print(\"Saving train model data to\", TRAIN_FILE_PATH+MODEL_DATA_PATH_EXT)\n",
    "\n",
    "    with open(TEST_FILE_PATH+MODEL_DATA_PATH_EXT, 'wb') as file:\n",
    "        pickle.dump(test_data, file)\n",
    "        print(\"Saving train model data to\", TEST_FILE_PATH+MODEL_DATA_PATH_EXT)\n",
    "    return train_data, test_data\n",
    "\n",
    "train_data, test_data = do_preprocessing()\n",
    "label_encoder = train_data.label_encoder\n",
    "classes = label_encoder.classes_"
   ]
  },
  {
   "cell_type": "code",
   "execution_count": 17,
   "metadata": {
    "ExecuteTime": {
     "end_time": "2020-11-28T02:52:07.402291Z",
     "start_time": "2020-11-28T02:52:07.399240Z"
    }
   },
   "outputs": [],
   "source": [
    "from keras.models import Model\n",
    "from keras.layers import Input, Dense, Dropout, concatenate\n",
    "from keras.layers import Embedding\n",
    "from keras.layers import Convolution1D, GlobalMaxPooling1D\n",
    "from keras import regularizers\n",
    "import tensorflow as tf"
   ]
  },
  {
   "cell_type": "code",
   "execution_count": 18,
   "metadata": {
    "ExecuteTime": {
     "end_time": "2020-11-28T02:52:07.410344Z",
     "start_time": "2020-11-28T02:52:07.404408Z"
    }
   },
   "outputs": [],
   "source": [
    "# Hyperparameters\n",
    "\n",
    "EPOCHS = 10\n",
    "BATCH_SIZE = 64\n",
    "DROPOUT_PROB = 0.25\n",
    "FILTER_SIZE = 256\n",
    "KERNEL_SIZES = [3, 4, 5]\n",
    "STRIDES = 1\n",
    "POS_EMB_DIM = 97\n",
    "REGULARIZE_RATE = 1e-4"
   ]
  },
  {
   "cell_type": "code",
   "execution_count": 19,
   "metadata": {
    "ExecuteTime": {
     "end_time": "2020-11-28T02:52:07.617385Z",
     "start_time": "2020-11-28T02:52:07.412532Z"
    }
   },
   "outputs": [
    {
     "name": "stdout",
     "output_type": "stream",
     "text": [
      "Model: \"Relation-Classification\"\n",
      "__________________________________________________________________________________________________\n",
      "Layer (type)                    Output Shape         Param #     Connected to                     \n",
      "==================================================================================================\n",
      "sentence_emb (InputLayer)       (None, 97)           0                                            \n",
      "__________________________________________________________________________________________________\n",
      "e1_emb (InputLayer)             (None, 97)           0                                            \n",
      "__________________________________________________________________________________________________\n",
      "e2_emb (InputLayer)             (None, 97)           0                                            \n",
      "__________________________________________________________________________________________________\n",
      "embedding_1 (Embedding)         (None, 97, 300)      6410100     sentence_emb[0][0]               \n",
      "__________________________________________________________________________________________________\n",
      "embedding_2 (Embedding)         (None, 97, 97)       9409        e1_emb[0][0]                     \n",
      "__________________________________________________________________________________________________\n",
      "embedding_3 (Embedding)         (None, 97, 97)       9409        e2_emb[0][0]                     \n",
      "__________________________________________________________________________________________________\n",
      "concatenate_1 (Concatenate)     (None, 97, 494)      0           embedding_1[0][0]                \n",
      "                                                                 embedding_2[0][0]                \n",
      "                                                                 embedding_3[0][0]                \n",
      "__________________________________________________________________________________________________\n",
      "conv1d_1 (Conv1D)               (None, 97, 256)      379648      concatenate_1[0][0]              \n",
      "__________________________________________________________________________________________________\n",
      "conv1d_2 (Conv1D)               (None, 97, 256)      262400      conv1d_1[0][0]                   \n",
      "__________________________________________________________________________________________________\n",
      "conv1d_3 (Conv1D)               (None, 97, 256)      327936      conv1d_2[0][0]                   \n",
      "__________________________________________________________________________________________________\n",
      "global_max_pooling1d_1 (GlobalM (None, 256)          0           conv1d_3[0][0]                   \n",
      "__________________________________________________________________________________________________\n",
      "dropout_1 (Dropout)             (None, 256)          0           global_max_pooling1d_1[0][0]     \n",
      "__________________________________________________________________________________________________\n",
      "dense_1 (Dense)                 (None, 19)           4883        dropout_1[0][0]                  \n",
      "==================================================================================================\n",
      "Total params: 7,403,785\n",
      "Trainable params: 993,685\n",
      "Non-trainable params: 6,410,100\n",
      "__________________________________________________________________________________________________\n"
     ]
    }
   ],
   "source": [
    "emb = embeddings.word2vec\n",
    "num_classes = len(classes)\n",
    "\n",
    "def build_model():\n",
    "    sentence_emb_input = Input(shape=(cr.max_token_len,), dtype='float32', name=\"sentence_emb\")\n",
    "    sentence_emb = Embedding(emb.shape[0], emb.shape[1], weights=[emb], trainable=False)(sentence_emb_input)\n",
    "    \n",
    "    e1_emb_input = Input(shape=(cr.max_token_len,), dtype='float32', name='e1_emb')\n",
    "    e1_emb = Embedding(cr.max_token_len, POS_EMB_DIM)(e1_emb_input)\n",
    "\n",
    "    e2_emb_input = Input(shape=(cr.max_token_len,), dtype='float32', name='e2_emb')\n",
    "    e2_emb = Embedding(cr.max_token_len, POS_EMB_DIM)(e2_emb_input)\n",
    "\n",
    "    x = concatenate([sentence_emb, e1_emb, e2_emb])\n",
    "    yy = tf.expand_dims(x, axis=-1)\n",
    "    input_dim = yy.shape.as_list()[2]\n",
    "\n",
    "    for kernel_size in KERNEL_SIZES:\n",
    "        x = Convolution1D(filters=FILTER_SIZE,\n",
    "                                kernel_size=kernel_size,\n",
    "                                padding='same',\n",
    "                                activation='tanh',\n",
    "                                strides=STRIDES,\n",
    "                                kernel_regularizer=regularizers.l2(REGULARIZE_RATE))(x)\n",
    "    x = GlobalMaxPooling1D()(x)\n",
    "    y = Dropout(DROPOUT_PROB)(x)\n",
    "    output = Dense(num_classes, activation='softmax')(y)\n",
    "\n",
    "    model = Model(name = \"Relation-Classification\", inputs=[sentence_emb_input, e1_emb_input, e2_emb_input], outputs=[output])\n",
    "    model.compile(loss='sparse_categorical_crossentropy', \n",
    "                    optimizer='adam',\n",
    "                    metrics=['acc'])\n",
    "    model.summary()\n",
    "    \n",
    "    return model\n",
    "\n",
    "model = build_model()"
   ]
  },
  {
   "cell_type": "code",
   "execution_count": 20,
   "metadata": {
    "ExecuteTime": {
     "end_time": "2020-11-28T02:52:08.147029Z",
     "start_time": "2020-11-28T02:52:07.620171Z"
    }
   },
   "outputs": [
    {
     "data": {
      "application/vnd.jupyter.widget-view+json": {
       "model_id": "0e02f857723b4178a383d6f013f60e5d",
       "version_major": 2,
       "version_minor": 0
      },
      "text/plain": [
       "HBox(children=(HTML(value=''), FloatProgress(value=0.0, max=10.0), HTML(value='')))"
      ]
     },
     "metadata": {},
     "output_type": "display_data"
    },
    {
     "name": "stderr",
     "output_type": "stream",
     "text": [
      "C:\\ProgramData\\Anaconda3\\lib\\site-packages\\tensorflow_core\\python\\framework\\indexed_slices.py:433: UserWarning: Converting sparse IndexedSlices to a dense Tensor of unknown shape. This may consume a large amount of memory.\n",
      "  \"Converting sparse IndexedSlices to a dense Tensor of unknown shape. \"\n"
     ]
    },
    {
     "name": "stdout",
     "output_type": "stream",
     "text": [
      "Epoch 1/1\n",
      "8000/8000 [==============================] - 17s 2ms/step - loss: 1.7469 - acc: 0.4803\n",
      "Epoch 1/1\n",
      "8000/8000 [==============================] - 19s 2ms/step - loss: 1.0160 - acc: 0.7035\n",
      "Epoch 1/1\n",
      "8000/8000 [==============================] - 20s 3ms/step - loss: 0.7958 - acc: 0.7689\n",
      "Epoch 1/1\n",
      "8000/8000 [==============================] - 19s 2ms/step - loss: 0.6096 - acc: 0.8366\n",
      "Epoch 1/1\n",
      "8000/8000 [==============================] - 18s 2ms/step - loss: 0.4938 - acc: 0.8764\n",
      "Epoch 1/1\n",
      "8000/8000 [==============================] - 18s 2ms/step - loss: 0.3944 - acc: 0.9166\n",
      "Epoch 1/1\n",
      "8000/8000 [==============================] - 18s 2ms/step - loss: 0.3000 - acc: 0.9526\n",
      "Epoch 1/1\n",
      "8000/8000 [==============================] - 18s 2ms/step - loss: 0.2547 - acc: 0.9705\n",
      "Epoch 1/1\n",
      "8000/8000 [==============================] - 18s 2ms/step - loss: 0.2077 - acc: 0.9850\n",
      "Epoch 1/1\n",
      "8000/8000 [==============================] - 19s 2ms/step - loss: 0.1849 - acc: 0.9904\n",
      "\n"
     ]
    }
   ],
   "source": [
    "TRAINED_MODEL_DIR = TASK_NAME + \"-model\"\n",
    "\n",
    "def train_model(train_data, model, force=False):\n",
    "    if not force:\n",
    "        try:\n",
    "            model = keras.models.load_model(TRAINED_MODEL_DIR)\n",
    "            print(\"Model Loaded from\", TRAINED_MODEL_DIR)\n",
    "            return model\n",
    "        except:\n",
    "            pass\n",
    "    \n",
    "    for i in trange(EPOCHS):\n",
    "        model.fit([train_data.word_embeddings,\n",
    "                   train_data.pos_embeddings[0],\n",
    "                   train_data.pos_embeddings[1]], \n",
    "                  train_data.Y,\n",
    "                  batch_size=BATCH_SIZE, \n",
    "                  epochs=1)\n",
    "\n",
    "    model.save(TRAINED_MODEL_DIR)    \n",
    "    return model\n",
    "\n",
    "model = train_model(train_data, model)"
   ]
  },
  {
   "cell_type": "markdown",
   "metadata": {},
   "source": [
    "\n",
    "### Task 4: The performance of your system will evaluated on the test set. \n",
    "\n",
    "- On the test set, evaluate your system. Specifically, compute the \n",
    "\n",
    "    - accuracy \n",
    "    - macro precision\n",
    "    - recall \n",
    "    - F-scores \n",
    "    \n",
    "for the predictions made by your model under two settings\n",
    "\n",
    "1. Assuming that the relation is classified correctly (but not the direction)\n",
    "2. Assuming both the relation and direction are classified correctly."
   ]
  },
  {
   "cell_type": "code",
   "execution_count": 21,
   "metadata": {
    "ExecuteTime": {
     "end_time": "2020-11-28T02:52:08.493201Z",
     "start_time": "2020-11-28T02:52:08.149204Z"
    }
   },
   "outputs": [],
   "source": [
    "from sklearn.metrics import accuracy_score, precision_score, recall_score, f1_score, confusion_matrix\n",
    "import time \n",
    "\n",
    "import matplotlib.pyplot as plt\n",
    "%matplotlib inline"
   ]
  },
  {
   "cell_type": "code",
   "execution_count": 22,
   "metadata": {
    "ExecuteTime": {
     "end_time": "2020-11-28T02:52:08.501431Z",
     "start_time": "2020-11-28T02:52:08.495690Z"
    }
   },
   "outputs": [],
   "source": [
    "def matprint(mat, fmt=\"g\"):\n",
    "        col_maxes = [max([len((\"{:\"+fmt+\"}\").format(x)) for x in col]) for col in mat.T]\n",
    "        for x in mat:\n",
    "            for i, y in enumerate(x):\n",
    "                print((\"{:\"+str(col_maxes[i])+fmt+\"}\").format(y), end=\"  \")\n",
    "            print(\"\")\n",
    "            \n",
    "def plot_cm(cm, labels):\n",
    "    fig = plt.figure(figsize=(20,10))\n",
    "    ax = fig.add_subplot(111)\n",
    "    cax = ax.matshow(cm, cmap=\"Greys\")\n",
    "    fig.colorbar(cax)\n",
    "    ax.set_xticks(range(len(labels)))\n",
    "    ax.set_yticks(range(len(labels)))\n",
    "    ax.set_xticklabels(labels)\n",
    "    ax.set_yticklabels(labels)\n",
    "    plt.xlabel('Predicted')\n",
    "    plt.ylabel('True')\n",
    "    plt.xticks(rotation=90)\n",
    "    plt.show()"
   ]
  },
  {
   "cell_type": "code",
   "execution_count": 23,
   "metadata": {
    "ExecuteTime": {
     "end_time": "2020-11-28T02:52:09.456049Z",
     "start_time": "2020-11-28T02:52:08.503440Z"
    }
   },
   "outputs": [
    {
     "name": "stdout",
     "output_type": "stream",
     "text": [
      "Computing metrics in Setting 1\n",
      "\n",
      "Time taken to make predictions = 1.9978737831115723\n",
      "Accuracy: 0.7563489142436511\n",
      "Macro precision 0.7612122020302865\n",
      "Recall 0.7754144769029652\n",
      "F1 0.766926469654596\n"
     ]
    },
    {
     "data": {
      "image/png": "[encoded data removed]",
      "text/plain": [
       "<Figure size 1440x720 with 2 Axes>"
      ]
     },
     "metadata": {
      "needs_background": "light"
     },
     "output_type": "display_data"
    }
   ],
   "source": [
    "def compute_metrics(y_true, y_pred, classes):\n",
    "    accuracy = accuracy_score(y_true, y_pred)\n",
    "    print(\"Accuracy:\", accuracy)\n",
    "    \n",
    "    macro_precision = precision_score(y_true, y_pred, average='macro', labels=np.unique(y_pred))\n",
    "    print(\"Macro precision\", macro_precision)\n",
    "    \n",
    "    recall = recall_score(y_true, y_pred, average='macro', labels=np.unique(y_pred))\n",
    "    print(\"Recall\", recall)\n",
    "    \n",
    "    f1 = f1_score(y_true, y_pred, average='macro', labels=np.unique(y_pred))\n",
    "    print(\"F1\", f1)\n",
    "    \n",
    "    cm = confusion_matrix(y_true, y_pred)\n",
    "    \n",
    "    # print(\"Confusion matrix\")\n",
    "    # matprint(cm)\n",
    "    plot_cm(cm, list(classes))\n",
    "\n",
    "def compute_metrics_setting_1(test_data, model):\n",
    "    print(\"Computing metrics in Setting 1\\n\")\n",
    "    \n",
    "    labels_idx = {}\n",
    "    label_groups = {}\n",
    "    \n",
    "    def group_labels():\n",
    "        \n",
    "        for idx, cls in enumerate(classes):\n",
    "            relation = cls.split('(')[0]\n",
    "            if relation not in labels_idx:\n",
    "                labels_idx[relation] = idx\n",
    "            label_groups[idx] = labels_idx[relation]\n",
    "                \n",
    "        return label_groups\n",
    "    \n",
    "    start_time = time.time()\n",
    "    \n",
    "    y_pred = model.predict([\n",
    "                test_data.word_embeddings, \n",
    "                test_data.pos_embeddings[0], \n",
    "                test_data.pos_embeddings[1]], verbose=False).argmax(axis=1)\n",
    "    \n",
    "    end_time = time.time()\n",
    "    \n",
    "    print(\"Time taken to make predictions =\", end_time-start_time)\n",
    "    \n",
    "    label_groups = group_labels()\n",
    "    \n",
    "    yt = np.copy(test_data.Y)\n",
    "    yp = np.copy(y_pred)\n",
    "    for k, v in label_groups.items():\n",
    "        yt[yt == k] = v\n",
    "        yp[yp == k] = v\n",
    "    \n",
    "    compute_metrics(yt, yp, labels_idx.keys())   \n",
    "        \n",
    "    \n",
    "compute_metrics_setting_1(test_data, model)"
   ]
  },
  {
   "cell_type": "code",
   "execution_count": 24,
   "metadata": {
    "ExecuteTime": {
     "end_time": "2020-11-28T02:52:10.372312Z",
     "start_time": "2020-11-28T02:52:09.458224Z"
    }
   },
   "outputs": [
    {
     "name": "stdout",
     "output_type": "stream",
     "text": [
      "Computing metrics in Setting 2\n",
      "\n",
      "Accuracy: 0.7442031652557969\n",
      "Macro precision 0.7556888716095342\n",
      "Recall 0.7442527289421387\n",
      "F1 0.7466610466568234\n"
     ]
    },
    {
     "data": {
      "image/png": "[encoded data removed]",
      "text/plain": [
       "<Figure size 1440x720 with 2 Axes>"
      ]
     },
     "metadata": {
      "needs_background": "light"
     },
     "output_type": "display_data"
    }
   ],
   "source": [
    "def compute_metrics_setting_2(test_data, model):\n",
    "    print(\"Computing metrics in Setting 2\\n\")\n",
    "    \n",
    "    y_pred = model.predict([\n",
    "                test_data.word_embeddings, \n",
    "                test_data.pos_embeddings[0], \n",
    "                test_data.pos_embeddings[1]], verbose=False).argmax(axis=1)\n",
    "    \n",
    "    \n",
    "    compute_metrics(test_data.Y, y_pred, test_data.classes)\n",
    "    \n",
    "compute_metrics_setting_2(test_data, model)"
   ]
  },
  {
   "cell_type": "markdown",
   "metadata": {},
   "source": [
    "### Demo"
   ]
  },
  {
   "cell_type": "code",
   "execution_count": 25,
   "metadata": {
    "ExecuteTime": {
     "end_time": "2020-11-28T02:52:10.377036Z",
     "start_time": "2020-11-28T02:52:10.374577Z"
    }
   },
   "outputs": [],
   "source": [
    "input_str = \"The male took over the entire care of the <e1>young</e1> that had left the <e2>nest</e2>.\" \n",
    "# Entity-Origin(e1,e2)\n",
    "\n",
    "# input_str = input()"
   ]
  },
  {
   "cell_type": "code",
   "execution_count": 26,
   "metadata": {
    "ExecuteTime": {
     "end_time": "2020-11-28T02:52:10.432024Z",
     "start_time": "2020-11-28T02:52:10.378969Z"
    }
   },
   "outputs": [
    {
     "name": "stdout",
     "output_type": "stream",
     "text": [
      "Processed sentence ProcessedSentence(idx=None, sentence=The male took over the entire care of the young that had left the nest ., e1=young, e2=nest, label=None)\n",
      "Extracted features\n",
      "{'tokens': ['The', 'male', 'took', 'over', 'the', 'entire', 'care', 'of', 'the', 'young', 'that', 'had', 'left', 'the', 'nest', '.'], 'pos_tags': ['DT', 'NN', 'VBD', 'RP', 'DT', 'JJ', 'NN', 'IN', 'DT', 'JJ', 'WDT', 'VBD', 'VBN', 'DT', 'NN', '.'], 'dep_parse': ['det', 'nsubj', 'ROOT', 'prt', 'det', 'amod', 'dobj', 'prep', 'det', 'pobj', 'nsubj', 'aux', 'relcl', 'det', 'dobj', 'punct'], 'lemmas': ['the', 'male', 'take', 'over', 'the', 'entire', 'care', 'of', 'the', 'young', 'that', 'have', 'leave', 'the', 'nest', '.'], 'ners': [], 'hypernyms': [('male', 'animal'), ('took', 'act'), ('over', 'part'), ('care', 'work'), ('nest', 'natural_object')], 'hyponyms': [('male', 'bullock'), ('over', 'maiden_over'), ('care', 'babysitting'), ('had', 'bear'), ('left', 'come_away'), ('nest', 'beehive')], 'meronyms': [], 'holonyms': [('over', 'playing_period')]}\n"
     ]
    }
   ],
   "source": [
    "start_time = time.time()\n",
    "\n",
    "processed_sentence = CorpusReader.process_sentence(input_str)\n",
    "print(\"Processed sentence\", processed_sentence)\n",
    "print(\"Extracted features\")\n",
    "print(extract_feature_of_sentence(processed_sentence))\n",
    "X = construct_model_input([processed_sentence], embeddings)\n",
    "y_pred = model.predict([\n",
    "                X.word_embeddings, \n",
    "                X.pos_embeddings[0], \n",
    "                X.pos_embeddings[1]], verbose=False).argmax(axis=1)\n",
    "pred_label = classes[y_pred]\n",
    "processed_sentence.label = pred_label\n",
    "\n",
    "end_time = time.time()"
   ]
  },
  {
   "cell_type": "code",
   "execution_count": 27,
   "metadata": {
    "ExecuteTime": {
     "end_time": "2020-11-28T02:52:10.437887Z",
     "start_time": "2020-11-28T02:52:10.434139Z"
    }
   },
   "outputs": [
    {
     "name": "stdout",
     "output_type": "stream",
     "text": [
      "Predicted relation for The male took over the entire care of the <e1>young</e1> that had left the <e2>nest</e2>. is\n",
      "['Entity-Origin(e1,e2)']\n",
      "Prediction time = 1.6436443328857422 seconds\n"
     ]
    }
   ],
   "source": [
    "print(f\"Predicted relation for {input_str} is\")\n",
    "print(pred_label)\n",
    "print(f\"Prediction time = {end_time - start_time} seconds\")"
   ]
  },
  {
   "cell_type": "code",
   "execution_count": null,
   "metadata": {},
   "outputs": [],
   "source": []
  }
 ],
 "metadata": {
  "kernelspec": {
   "display_name": "Python 3",
   "language": "python",
   "name": "python3"
  },
  "language_info": {
   "codemirror_mode": {
    "name": "ipython",
    "version": 3
   },
   "file_extension": ".py",
   "mimetype": "text/x-python",
   "name": "python",
   "nbconvert_exporter": "python",
   "pygments_lexer": "ipython3",
   "version": "3.7.4"
  },
  "varInspector": {
   "cols": {
    "lenName": 16,
    "lenType": 16,
    "lenVar": 40
   },
   "kernels_config": {
    "python": {
     "delete_cmd_postfix": "",
     "delete_cmd_prefix": "del ",
     "library": "var_list.py",
     "varRefreshCmd": "print(var_dic_list())"
    },
    "r": {
     "delete_cmd_postfix": ") ",
     "delete_cmd_prefix": "rm(",
     "library": "var_list.r",
     "varRefreshCmd": "cat(var_dic_list()) "
    }
   },
   "position": {
    "height": "648px",
    "left": "1548px",
    "right": "20px",
    "top": "116px",
    "width": "350px"
   },
   "types_to_exclude": [
    "module",
    "function",
    "builtin_function_or_method",
    "instance",
    "_Feature"
   ],
   "window_display": false
  }
 },
 "nbformat": 4,
 "nbformat_minor": 2
}
